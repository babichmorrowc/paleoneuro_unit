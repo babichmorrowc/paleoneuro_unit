{
 "cells": [
  {
   "cell_type": "markdown",
   "metadata": {},
   "source": [
    "# Classifying brains with Machine Learning\n",
    "In this notebook you will learn how to use machine learning to predict whether or not a brain belongs to a modern bird or a non-avian dinosaur. "
   ]
  },
  {
   "cell_type": "markdown",
   "metadata": {},
   "source": [
    "First import pandas, numpy, and matplotlib.pyplot:"
   ]
  },
  {
   "cell_type": "code",
   "execution_count": null,
   "metadata": {},
   "outputs": [],
   "source": []
  },
  {
   "cell_type": "markdown",
   "metadata": {},
   "source": [
    "We will also need the tree module of the sklearn library:"
   ]
  },
  {
   "cell_type": "code",
   "execution_count": null,
   "metadata": {},
   "outputs": [],
   "source": [
    "from sklearn import tree"
   ]
  },
  {
   "cell_type": "markdown",
   "metadata": {},
   "source": [
    "Read the bird_dino_data.csv file into a dataframe and add two new columns:\n",
    "- Brain vs body mass (use total endocranium / body mass*1000)\n",
    "- Cerebrum vs total brain (use cerebrum / endocranium)"
   ]
  },
  {
   "cell_type": "code",
   "execution_count": null,
   "metadata": {},
   "outputs": [],
   "source": []
  },
  {
   "cell_type": "code",
   "execution_count": null,
   "metadata": {},
   "outputs": [],
   "source": []
  },
  {
   "cell_type": "markdown",
   "metadata": {},
   "source": [
    "Find the head of your dataframe to check that your changes are correct:"
   ]
  },
  {
   "cell_type": "code",
   "execution_count": null,
   "metadata": {},
   "outputs": [],
   "source": []
  },
  {
   "cell_type": "markdown",
   "metadata": {},
   "source": [
    "Our machine learning library requires that we replace our \"classes\" with integers instead of strings. \n",
    "\n",
    "Change the values of the \"Bird or Dino\" column from \"Bird\" to \"0\" and from \"Dino\" to \"1\":\n",
    "\n",
    "Hints: \n",
    "- use .loc indexes\n",
    "- you can reassign the value in a dataframe column using =\n",
    "\n",
    "*Ignore the warning. Pandas tries to discourage you from making changes to the original dataframe, but it's ok*"
   ]
  },
  {
   "cell_type": "code",
   "execution_count": null,
   "metadata": {},
   "outputs": [],
   "source": []
  },
  {
   "cell_type": "markdown",
   "metadata": {},
   "source": [
    "Find the head of your dataframe to check that your changes are correct:"
   ]
  },
  {
   "cell_type": "code",
   "execution_count": null,
   "metadata": {},
   "outputs": [],
   "source": []
  },
  {
   "cell_type": "markdown",
   "metadata": {},
   "source": [
    "Our machine learning algorithm requires a numpy array instead of a dataframe.\n",
    "\n",
    "PAUSE: When you get to this point, let your Helen Fellow know and we will review numpy matrices before we continue with machine learning\n",
    "\n",
    "We can convert the dataframe to a numpy array using the .to_numpy() method. Assign your array to a variable:"
   ]
  },
  {
   "cell_type": "code",
   "execution_count": null,
   "metadata": {},
   "outputs": [],
   "source": []
  },
  {
   "cell_type": "markdown",
   "metadata": {},
   "source": [
    "Print out the data type of array and the first value in the array (note: this is a two dimensional array):"
   ]
  },
  {
   "cell_type": "code",
   "execution_count": null,
   "metadata": {},
   "outputs": [],
   "source": []
  },
  {
   "cell_type": "markdown",
   "metadata": {},
   "source": [
    "Now we will create our classifier. Just as it is common to call a dataframe \"df\" it is common to call a classifier \"clf\":"
   ]
  },
  {
   "cell_type": "code",
   "execution_count": null,
   "metadata": {},
   "outputs": [],
   "source": [
    "clf = tree.DecisionTreeClassifier()"
   ]
  },
  {
   "cell_type": "markdown",
   "metadata": {},
   "source": [
    "Next, we will select the x and y data for our algorithm. x should be the two columns we will use to train the algorithm (brain to body ratio and cerebrum to whole brain ratio). y should be the first column which contains our \"class labels\".\n",
    "\n",
    "Hint: You can use slicing to select a particular value from every row of a numpy array. For example, using the index [:,1] will select the second column."
   ]
  },
  {
   "cell_type": "code",
   "execution_count": null,
   "metadata": {},
   "outputs": [],
   "source": []
  },
  {
   "cell_type": "markdown",
   "metadata": {},
   "source": [
    "Next we will use the .fit() method to fit our data to the classifier:"
   ]
  },
  {
   "cell_type": "code",
   "execution_count": null,
   "metadata": {},
   "outputs": [],
   "source": []
  },
  {
   "cell_type": "markdown",
   "metadata": {},
   "source": [
    "We can visualize the path of the decision tree's decision making using the .plot_tree function and matplotlib.pyplot's plt.show function:"
   ]
  },
  {
   "cell_type": "code",
   "execution_count": null,
   "metadata": {},
   "outputs": [],
   "source": []
  },
  {
   "cell_type": "markdown",
   "metadata": {},
   "source": [
    "Now let's test out our decision tree with some data from one of the brains we studied! We can use the .predict_proba method. \n",
    "\n",
    "A result of array([[1., 0.]]) means the algorithm is certain it's a bird and a result of array([[0., 1.]]) means the algorithm is certain it's a dinosaur.\n",
    "\n",
    "For example:"
   ]
  },
  {
   "cell_type": "code",
   "execution_count": null,
   "metadata": {},
   "outputs": [],
   "source": [
    "# This is the brain to body mass ratio and cerebrum to whole brain ratio for the woodpecker:\n",
    "clf.predict_proba([[0.22,0.71]])"
   ]
  },
  {
   "cell_type": "markdown",
   "metadata": {},
   "source": [
    "Try it with the data from your brain specimen!"
   ]
  },
  {
   "cell_type": "code",
   "execution_count": null,
   "metadata": {},
   "outputs": [],
   "source": []
  },
  {
   "cell_type": "markdown",
   "metadata": {},
   "source": [
    "## Beautifying our graph\n",
    "\n",
    "We can use `graphviz` to create a nicer visualization of our decision tree. You will need to import `export_graphviz` from `sklearn.tree`, import `pydotplus`, and import `graphviz`."
   ]
  },
  {
   "cell_type": "code",
   "execution_count": null,
   "metadata": {},
   "outputs": [],
   "source": []
  },
  {
   "cell_type": "markdown",
   "metadata": {},
   "source": [
    "Look up the documentation for the `export_graphviz` function. You will need to supply the name of your decision tree, the names of your features (the \"x\" variable), and the names of your classes. You can play around with the other arguments to change the appearance of the tree."
   ]
  },
  {
   "cell_type": "code",
   "execution_count": null,
   "metadata": {},
   "outputs": [],
   "source": []
  },
  {
   "cell_type": "markdown",
   "metadata": {},
   "source": [
    "## Plotting decision surface:\n",
    "\n",
    "Plot the decision surface for your decision tree to visualize the values of each feature that the algorithm classifies as bird vs. dinosaur.\n",
    "\n",
    "First, find the minimum and maximum of each feature. In this case, we want the minimum and maximum of brain to body ratio and cerebrum to whole brain ratio:"
   ]
  },
  {
   "cell_type": "code",
   "execution_count": null,
   "metadata": {},
   "outputs": [],
   "source": [
    "# Calculate the minimum and maximum of brain to body ratio and assign it to a variable:\n",
    "\n",
    "# Calculate the minimum and maximum of cerebrum to whole brain ratio and assign it to a variable:\n"
   ]
  },
  {
   "cell_type": "markdown",
   "metadata": {},
   "source": [
    "Now we want to use those to create simulated brains with ranges of values for the different ratios. We will create all possible combinations in these ranges with a step value of 0.02."
   ]
  },
  {
   "cell_type": "code",
   "execution_count": null,
   "metadata": {},
   "outputs": [],
   "source": [
    "# Make coordinate matrices\n",
    "# Fill in the minimum and maximum values for both ratios below\n",
    "xx, yy = np.meshgrid(np.arange( - 0.05,  + 0.05, 0.02),\n",
    "                         np.arange( - 0.05,  + 0.05, 0.02))"
   ]
  },
  {
   "cell_type": "markdown",
   "metadata": {},
   "source": [
    "We can use our decision tree to classify these simulated brains:"
   ]
  },
  {
   "cell_type": "code",
   "execution_count": null,
   "metadata": {},
   "outputs": [],
   "source": [
    "Z = clf.predict(np.c_[xx.ravel(), yy.ravel()])\n",
    "Z = Z.reshape(xx.shape)"
   ]
  },
  {
   "cell_type": "markdown",
   "metadata": {},
   "source": [
    "Now we can plot the simulated values to see the decision surface and overlay the training points to see where the brains in our dataset fall."
   ]
  },
  {
   "cell_type": "code",
   "execution_count": null,
   "metadata": {},
   "outputs": [],
   "source": [
    "# Plot the contour plot\n",
    "cs = plt.contourf(xx, yy, Z, cmap=plt.cm.RdBu)\n",
    "# label the axes\n",
    "\n",
    "\n",
    "# Plot the training points\n",
    "for i, color in zip(range(2), \"rb\"):\n",
    "    idx = np.where(y == i)\n",
    "    plt.scatter(x[idx, 0], x[idx, 1], c=color, label=[\"Bird\", \"Dino\"][i],\n",
    "                cmap=plt.cm.RdBu, edgecolor='black', s=15)\n",
    "\n",
    "plt.show()"
   ]
  }
 ],
 "metadata": {
  "kernelspec": {
   "display_name": "Python 3",
   "language": "python",
   "name": "python3"
  },
  "language_info": {
   "codemirror_mode": {
    "name": "ipython",
    "version": 3
   },
   "file_extension": ".py",
   "mimetype": "text/x-python",
   "name": "python",
   "nbconvert_exporter": "python",
   "pygments_lexer": "ipython3",
   "version": "3.7.3"
  }
 },
 "nbformat": 4,
 "nbformat_minor": 2
}
