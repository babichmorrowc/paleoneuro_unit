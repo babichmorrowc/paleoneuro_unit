{
 "cells": [
  {
   "cell_type": "markdown",
   "metadata": {},
   "source": [
    "# Adding reptiles\n",
    "\n",
    "We have some data to compare alligators to birds and dinosaurs based on body mass, brain volume, and cerebrum volume. Although there are only two alligator data points (coded \"R\" for reptile), we can still build a decision tree to see how the computer can classify reptiles relative to birds and dinosaurs.\n",
    "\n",
    "## Import libraries and data\n",
    "\n",
    "Following your code from the PaleoNeuro_FinalProject_bonus notebook, import the libraries you need to build a decision tree and read the bird_dino_gator.csv file into a dataframe."
   ]
  },
  {
   "cell_type": "code",
   "execution_count": null,
   "metadata": {},
   "outputs": [],
   "source": []
  },
  {
   "cell_type": "markdown",
   "metadata": {},
   "source": [
    "## Data cleaning\n",
    "\n",
    "In this case, the data has columns for Body Mass (kg), whole brain volume (cm3) and cerebrum volume (cm3). Create two new columns for brain vs. body mass and cerebrum vs. whole brain."
   ]
  },
  {
   "cell_type": "code",
   "execution_count": null,
   "metadata": {},
   "outputs": [],
   "source": []
  },
  {
   "cell_type": "markdown",
   "metadata": {},
   "source": [
    "Change the values of the \"Species Type\" column from \"B\" to \"0\", from \"D\" to \"1\", and from \"R\" to \"2\". (Note that we now have 3 classes because we have added reptiles."
   ]
  },
  {
   "cell_type": "code",
   "execution_count": null,
   "metadata": {},
   "outputs": [],
   "source": []
  },
  {
   "cell_type": "markdown",
   "metadata": {},
   "source": [
    "Convert the dataframe to a numpy array."
   ]
  },
  {
   "cell_type": "code",
   "execution_count": null,
   "metadata": {},
   "outputs": [],
   "source": []
  },
  {
   "cell_type": "markdown",
   "metadata": {},
   "source": [
    "## Create decision tree\n",
    "\n",
    "Now, create a decision tree classifier to classify the brains as birds, dinosaurs, or reptiles based on the brain to body mass ratio and cerebrum to whole brain ratio (following the code you wrote earlier this week)."
   ]
  },
  {
   "cell_type": "code",
   "execution_count": null,
   "metadata": {},
   "outputs": [],
   "source": []
  },
  {
   "cell_type": "markdown",
   "metadata": {},
   "source": [
    "Use the `graphviz` library to beautify your decision tree a little bit. You can also create a decision surface for your decision tree to show the regions predicted for birds, dinosaurs, and reptiles."
   ]
  },
  {
   "cell_type": "code",
   "execution_count": null,
   "metadata": {},
   "outputs": [],
   "source": []
  }
 ],
 "metadata": {
  "kernelspec": {
   "display_name": "Python 3",
   "language": "python",
   "name": "python3"
  },
  "language_info": {
   "codemirror_mode": {
    "name": "ipython",
    "version": 3
   },
   "file_extension": ".py",
   "mimetype": "text/x-python",
   "name": "python",
   "nbconvert_exporter": "python",
   "pygments_lexer": "ipython3",
   "version": "3.7.3"
  }
 },
 "nbformat": 4,
 "nbformat_minor": 2
}
