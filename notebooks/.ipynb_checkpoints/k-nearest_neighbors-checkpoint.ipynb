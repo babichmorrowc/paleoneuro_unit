{
 "cells": [
  {
   "cell_type": "markdown",
   "metadata": {},
   "source": [
    "# K-Nearest Neighbors\n",
    "\n",
    "We are now going to use a different machine learning algorithm to classify our brains, this time using a k-nearest neighbors approach. This is similar in concept to the function you wrote in the paleo-neuro unit to classify your 3-D printed brain.\n",
    "\n",
    "## Import libraries\n",
    "\n",
    "First, we need to import some libraries. Import `pandas`, `numpy`, and `matplotlib.pyplot`. From `sklearn`, import `neighbors` and `datasets`."
   ]
  },
  {
   "cell_type": "code",
   "execution_count": null,
   "metadata": {},
   "outputs": [],
   "source": []
  },
  {
   "cell_type": "markdown",
   "metadata": {},
   "source": [
    "## Import data\n",
    "\n",
    "Now we need to import our bird and dinosaur brain data and calculate the brain to body ratio and cerebrum to whole brain ratio. We also need to convert the bird and dinosaur classifications to 0s and 1s like you did in the decision tree notebook. Finally, we need to convert the data to a numpy array."
   ]
  },
  {
   "cell_type": "code",
   "execution_count": null,
   "metadata": {},
   "outputs": [],
   "source": []
  },
  {
   "cell_type": "markdown",
   "metadata": {},
   "source": [
    "## Set x and y\n",
    "\n",
    "Again, just as in the decision tree, we need to set `x` and `y` variables corresponding to our features (brain to body mass ratio and cerebrum to whole brain ratio) and classes (birds and dinosaurs), respectively."
   ]
  },
  {
   "cell_type": "code",
   "execution_count": null,
   "metadata": {},
   "outputs": [],
   "source": []
  },
  {
   "cell_type": "markdown",
   "metadata": {},
   "source": [
    "## Train / test split\n",
    "\n",
    "We are going to split up our dataset into training data, that we will use to train the algorithm, and test data, that we will use to see how well the algorithm performs. From `sklearn.model_selection`, import `train_test_split`. Next, look at the documentation for `train_test_split` to divide the data into 80% training and 20% test data:"
   ]
  },
  {
   "cell_type": "code",
   "execution_count": null,
   "metadata": {},
   "outputs": [],
   "source": []
  },
  {
   "cell_type": "markdown",
   "metadata": {},
   "source": [
    "## Run k-nearest neighbors\n",
    "\n",
    "Now it is time to actually run the k-nearest neighbors! Look at the documentation for `KNeighborsClassifiers`: https://scikit-learn.org/stable/modules/generated/sklearn.neighbors.KNeighborsClassifier.html. Let's start with `n_neighbors` as 5, which is the default."
   ]
  },
  {
   "cell_type": "code",
   "execution_count": null,
   "metadata": {},
   "outputs": [],
   "source": []
  },
  {
   "cell_type": "markdown",
   "metadata": {},
   "source": [
    "Now, just as you did for the decision tree, you need to run `fit` based on what you called your k-nearest neighbors result. Use the training data you created (split up into x and y)."
   ]
  },
  {
   "cell_type": "code",
   "execution_count": null,
   "metadata": {},
   "outputs": [],
   "source": []
  },
  {
   "cell_type": "markdown",
   "metadata": {},
   "source": [
    "## Testing\n",
    "\n",
    "Now, we can evaluate our model on the test data you created by running `predict`  on the test data. We can see whether the algorithm classifies this test data as either a bird or dinosaur based on the values of the two ratios."
   ]
  },
  {
   "cell_type": "code",
   "execution_count": null,
   "metadata": {},
   "outputs": [],
   "source": []
  },
  {
   "cell_type": "markdown",
   "metadata": {},
   "source": [
    "We can calculate the accuracy by importing `metrics` from `sklearn`:"
   ]
  },
  {
   "cell_type": "code",
   "execution_count": null,
   "metadata": {},
   "outputs": [],
   "source": []
  },
  {
   "cell_type": "markdown",
   "metadata": {},
   "source": [
    "We can use `metrics.accuracy_score` to compare the predicted classifications with the actual identities of the brains in our test data."
   ]
  },
  {
   "cell_type": "code",
   "execution_count": null,
   "metadata": {},
   "outputs": [],
   "source": []
  }
 ],
 "metadata": {
  "kernelspec": {
   "display_name": "Python 3",
   "language": "python",
   "name": "python3"
  },
  "language_info": {
   "codemirror_mode": {
    "name": "ipython",
    "version": 3
   },
   "file_extension": ".py",
   "mimetype": "text/x-python",
   "name": "python",
   "nbconvert_exporter": "python",
   "pygments_lexer": "ipython3",
   "version": "3.7.3"
  }
 },
 "nbformat": 4,
 "nbformat_minor": 2
}
