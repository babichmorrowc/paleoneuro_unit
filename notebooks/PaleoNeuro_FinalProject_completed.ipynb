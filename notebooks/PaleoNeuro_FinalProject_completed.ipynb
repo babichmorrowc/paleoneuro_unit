{
 "cells": [
  {
   "cell_type": "markdown",
   "metadata": {},
   "source": [
    "# Classifying brains with Machine Learning\n",
    "In this notebook you will learn how to use machine learning to predict whether or not a brain belongs to a modern bird or a non-avian dinosaur. "
   ]
  },
  {
   "cell_type": "markdown",
   "metadata": {},
   "source": [
    "First import pandas, numpy, and matplotlib.pyplot:"
   ]
  },
  {
   "cell_type": "code",
   "execution_count": 1,
   "metadata": {},
   "outputs": [],
   "source": [
    "import pandas as pd\n",
    "import numpy as np\n",
    "import matplotlib.pyplot as plt"
   ]
  },
  {
   "cell_type": "markdown",
   "metadata": {},
   "source": [
    "We will also need the tree module of the sklearn library:"
   ]
  },
  {
   "cell_type": "code",
   "execution_count": 17,
   "metadata": {},
   "outputs": [],
   "source": [
    "from sklearn import tree"
   ]
  },
  {
   "cell_type": "markdown",
   "metadata": {},
   "source": [
    "Read the bird_dino_data.csv file into a dataframe and add two new columns:\n",
    "- Brain vs body mass (use total endocranium / body mass*1000)\n",
    "- Cerebrum vs total brain (use cerebrum / endocranium)"
   ]
  },
  {
   "cell_type": "code",
   "execution_count": 7,
   "metadata": {},
   "outputs": [
    {
     "data": {
      "text/html": [
       "<div>\n",
       "<style scoped>\n",
       "    .dataframe tbody tr th:only-of-type {\n",
       "        vertical-align: middle;\n",
       "    }\n",
       "\n",
       "    .dataframe tbody tr th {\n",
       "        vertical-align: top;\n",
       "    }\n",
       "\n",
       "    .dataframe thead th {\n",
       "        text-align: right;\n",
       "    }\n",
       "</style>\n",
       "<table border=\"1\" class=\"dataframe\">\n",
       "  <thead>\n",
       "    <tr style=\"text-align: right;\">\n",
       "      <th></th>\n",
       "      <th>Species ID</th>\n",
       "      <th>Bird or Dino</th>\n",
       "      <th>Body Mass (kg)</th>\n",
       "      <th>Total Endocranium (cm3)</th>\n",
       "      <th>Olfactory bulbs (cm3)</th>\n",
       "      <th>Cerebrum (cm3)</th>\n",
       "      <th>Optic Lobes (cm3)</th>\n",
       "      <th>Cerebellum (cm3)</th>\n",
       "      <th>Brain Stem (cm3)</th>\n",
       "    </tr>\n",
       "  </thead>\n",
       "  <tbody>\n",
       "    <tr>\n",
       "      <th>0</th>\n",
       "      <td>3</td>\n",
       "      <td>Bird</td>\n",
       "      <td>0.01</td>\n",
       "      <td>2.20</td>\n",
       "      <td>0.003</td>\n",
       "      <td>1.57</td>\n",
       "      <td>0.20</td>\n",
       "      <td>0.34</td>\n",
       "      <td>0.08</td>\n",
       "    </tr>\n",
       "    <tr>\n",
       "      <th>1</th>\n",
       "      <td>4</td>\n",
       "      <td>Bird</td>\n",
       "      <td>0.03</td>\n",
       "      <td>4.02</td>\n",
       "      <td>0.010</td>\n",
       "      <td>2.22</td>\n",
       "      <td>0.73</td>\n",
       "      <td>0.76</td>\n",
       "      <td>0.29</td>\n",
       "    </tr>\n",
       "    <tr>\n",
       "      <th>2</th>\n",
       "      <td>5</td>\n",
       "      <td>Bird</td>\n",
       "      <td>0.02</td>\n",
       "      <td>1.98</td>\n",
       "      <td>0.009</td>\n",
       "      <td>1.53</td>\n",
       "      <td>0.20</td>\n",
       "      <td>0.16</td>\n",
       "      <td>0.06</td>\n",
       "    </tr>\n",
       "    <tr>\n",
       "      <th>3</th>\n",
       "      <td>6</td>\n",
       "      <td>Bird</td>\n",
       "      <td>0.01</td>\n",
       "      <td>0.87</td>\n",
       "      <td>0.006</td>\n",
       "      <td>0.46</td>\n",
       "      <td>0.24</td>\n",
       "      <td>0.11</td>\n",
       "      <td>0.06</td>\n",
       "    </tr>\n",
       "    <tr>\n",
       "      <th>4</th>\n",
       "      <td>7</td>\n",
       "      <td>Bird</td>\n",
       "      <td>0.17</td>\n",
       "      <td>9.11</td>\n",
       "      <td>0.015</td>\n",
       "      <td>6.09</td>\n",
       "      <td>0.88</td>\n",
       "      <td>1.62</td>\n",
       "      <td>0.49</td>\n",
       "    </tr>\n",
       "  </tbody>\n",
       "</table>\n",
       "</div>"
      ],
      "text/plain": [
       "   Species ID Bird or Dino  Body Mass (kg)  Total Endocranium (cm3)  \\\n",
       "0           3         Bird            0.01                     2.20   \n",
       "1           4         Bird            0.03                     4.02   \n",
       "2           5         Bird            0.02                     1.98   \n",
       "3           6         Bird            0.01                     0.87   \n",
       "4           7         Bird            0.17                     9.11   \n",
       "\n",
       "   Olfactory bulbs (cm3)  Cerebrum (cm3)  Optic Lobes (cm3)  Cerebellum (cm3)  \\\n",
       "0                  0.003            1.57               0.20              0.34   \n",
       "1                  0.010            2.22               0.73              0.76   \n",
       "2                  0.009            1.53               0.20              0.16   \n",
       "3                  0.006            0.46               0.24              0.11   \n",
       "4                  0.015            6.09               0.88              1.62   \n",
       "\n",
       "   Brain Stem (cm3)  \n",
       "0              0.08  \n",
       "1              0.29  \n",
       "2              0.06  \n",
       "3              0.06  \n",
       "4              0.49  "
      ]
     },
     "execution_count": 7,
     "metadata": {},
     "output_type": "execute_result"
    }
   ],
   "source": [
    "df = pd.read_csv(\"../data/bird_dino_data.csv\")\n",
    "df.head()"
   ]
  },
  {
   "cell_type": "code",
   "execution_count": 8,
   "metadata": {},
   "outputs": [],
   "source": [
    "df[\"Brain Body Ratio\"] = df[\"Total Endocranium (cm3)\"]/(df[\"Body Mass (kg)\"]*1000)\n",
    "df[\"Cerebrum Ratio\"] = df[\"Cerebrum (cm3)\"]/df[\"Total Endocranium (cm3)\"]"
   ]
  },
  {
   "cell_type": "markdown",
   "metadata": {},
   "source": [
    "Find the head of your dataframe to check that your changes are correct:"
   ]
  },
  {
   "cell_type": "code",
   "execution_count": 20,
   "metadata": {},
   "outputs": [
    {
     "data": {
      "text/html": [
       "<div>\n",
       "<style scoped>\n",
       "    .dataframe tbody tr th:only-of-type {\n",
       "        vertical-align: middle;\n",
       "    }\n",
       "\n",
       "    .dataframe tbody tr th {\n",
       "        vertical-align: top;\n",
       "    }\n",
       "\n",
       "    .dataframe thead th {\n",
       "        text-align: right;\n",
       "    }\n",
       "</style>\n",
       "<table border=\"1\" class=\"dataframe\">\n",
       "  <thead>\n",
       "    <tr style=\"text-align: right;\">\n",
       "      <th></th>\n",
       "      <th>Species ID</th>\n",
       "      <th>Bird or Dino</th>\n",
       "      <th>Body Mass (kg)</th>\n",
       "      <th>Total Endocranium (cm3)</th>\n",
       "      <th>Olfactory bulbs (cm3)</th>\n",
       "      <th>Cerebrum (cm3)</th>\n",
       "      <th>Optic Lobes (cm3)</th>\n",
       "      <th>Cerebellum (cm3)</th>\n",
       "      <th>Brain Stem (cm3)</th>\n",
       "      <th>Brain Body Ratio</th>\n",
       "      <th>Cerebrum Ratio</th>\n",
       "    </tr>\n",
       "  </thead>\n",
       "  <tbody>\n",
       "    <tr>\n",
       "      <th>0</th>\n",
       "      <td>3</td>\n",
       "      <td>Bird</td>\n",
       "      <td>0.01</td>\n",
       "      <td>2.20</td>\n",
       "      <td>0.003</td>\n",
       "      <td>1.57</td>\n",
       "      <td>0.20</td>\n",
       "      <td>0.34</td>\n",
       "      <td>0.08</td>\n",
       "      <td>0.220000</td>\n",
       "      <td>0.713636</td>\n",
       "    </tr>\n",
       "    <tr>\n",
       "      <th>1</th>\n",
       "      <td>4</td>\n",
       "      <td>Bird</td>\n",
       "      <td>0.03</td>\n",
       "      <td>4.02</td>\n",
       "      <td>0.010</td>\n",
       "      <td>2.22</td>\n",
       "      <td>0.73</td>\n",
       "      <td>0.76</td>\n",
       "      <td>0.29</td>\n",
       "      <td>0.134000</td>\n",
       "      <td>0.552239</td>\n",
       "    </tr>\n",
       "    <tr>\n",
       "      <th>2</th>\n",
       "      <td>5</td>\n",
       "      <td>Bird</td>\n",
       "      <td>0.02</td>\n",
       "      <td>1.98</td>\n",
       "      <td>0.009</td>\n",
       "      <td>1.53</td>\n",
       "      <td>0.20</td>\n",
       "      <td>0.16</td>\n",
       "      <td>0.06</td>\n",
       "      <td>0.099000</td>\n",
       "      <td>0.772727</td>\n",
       "    </tr>\n",
       "    <tr>\n",
       "      <th>3</th>\n",
       "      <td>6</td>\n",
       "      <td>Bird</td>\n",
       "      <td>0.01</td>\n",
       "      <td>0.87</td>\n",
       "      <td>0.006</td>\n",
       "      <td>0.46</td>\n",
       "      <td>0.24</td>\n",
       "      <td>0.11</td>\n",
       "      <td>0.06</td>\n",
       "      <td>0.087000</td>\n",
       "      <td>0.528736</td>\n",
       "    </tr>\n",
       "    <tr>\n",
       "      <th>4</th>\n",
       "      <td>7</td>\n",
       "      <td>Bird</td>\n",
       "      <td>0.17</td>\n",
       "      <td>9.11</td>\n",
       "      <td>0.015</td>\n",
       "      <td>6.09</td>\n",
       "      <td>0.88</td>\n",
       "      <td>1.62</td>\n",
       "      <td>0.49</td>\n",
       "      <td>0.053588</td>\n",
       "      <td>0.668496</td>\n",
       "    </tr>\n",
       "  </tbody>\n",
       "</table>\n",
       "</div>"
      ],
      "text/plain": [
       "   Species ID Bird or Dino  Body Mass (kg)  Total Endocranium (cm3)  \\\n",
       "0           3         Bird            0.01                     2.20   \n",
       "1           4         Bird            0.03                     4.02   \n",
       "2           5         Bird            0.02                     1.98   \n",
       "3           6         Bird            0.01                     0.87   \n",
       "4           7         Bird            0.17                     9.11   \n",
       "\n",
       "   Olfactory bulbs (cm3)  Cerebrum (cm3)  Optic Lobes (cm3)  Cerebellum (cm3)  \\\n",
       "0                  0.003            1.57               0.20              0.34   \n",
       "1                  0.010            2.22               0.73              0.76   \n",
       "2                  0.009            1.53               0.20              0.16   \n",
       "3                  0.006            0.46               0.24              0.11   \n",
       "4                  0.015            6.09               0.88              1.62   \n",
       "\n",
       "   Brain Stem (cm3)  Brain Body Ratio  Cerebrum Ratio  \n",
       "0              0.08          0.220000        0.713636  \n",
       "1              0.29          0.134000        0.552239  \n",
       "2              0.06          0.099000        0.772727  \n",
       "3              0.06          0.087000        0.528736  \n",
       "4              0.49          0.053588        0.668496  "
      ]
     },
     "execution_count": 20,
     "metadata": {},
     "output_type": "execute_result"
    }
   ],
   "source": [
    "df.head()"
   ]
  },
  {
   "cell_type": "markdown",
   "metadata": {},
   "source": [
    "Our machine learning library requires that we replace our \"classes\" with integers instead of strings. \n",
    "\n",
    "Change the values of the \"Bird or Dino\" column from \"Bird\" to \"0\" and from \"Dino\" to \"1\":\n",
    "\n",
    "Hints: \n",
    "- use .loc indexes\n",
    "- you can reassign the value in a dataframe column using =\n",
    "\n",
    "*Ignore the warning. Pandas tries to discourage you from making changes to the original dataframe, but it's ok*"
   ]
  },
  {
   "cell_type": "code",
   "execution_count": 9,
   "metadata": {},
   "outputs": [
    {
     "name": "stderr",
     "output_type": "stream",
     "text": [
      "/Applications/anaconda3/lib/python3.7/site-packages/pandas/core/indexing.py:190: SettingWithCopyWarning: \n",
      "A value is trying to be set on a copy of a slice from a DataFrame\n",
      "\n",
      "See the caveats in the documentation: http://pandas.pydata.org/pandas-docs/stable/indexing.html#indexing-view-versus-copy\n",
      "  self._setitem_with_indexer(indexer, value)\n"
     ]
    }
   ],
   "source": [
    "df[\"Bird or Dino\"].loc[df[\"Bird or Dino\"] == \"Bird\"] = 0\n",
    "df[\"Bird or Dino\"].loc[df[\"Bird or Dino\"] == \"Dino\"] = 1"
   ]
  },
  {
   "cell_type": "markdown",
   "metadata": {},
   "source": [
    "Find the head of your dataframe to check that your changes are correct:"
   ]
  },
  {
   "cell_type": "code",
   "execution_count": 10,
   "metadata": {},
   "outputs": [
    {
     "data": {
      "text/html": [
       "<div>\n",
       "<style scoped>\n",
       "    .dataframe tbody tr th:only-of-type {\n",
       "        vertical-align: middle;\n",
       "    }\n",
       "\n",
       "    .dataframe tbody tr th {\n",
       "        vertical-align: top;\n",
       "    }\n",
       "\n",
       "    .dataframe thead th {\n",
       "        text-align: right;\n",
       "    }\n",
       "</style>\n",
       "<table border=\"1\" class=\"dataframe\">\n",
       "  <thead>\n",
       "    <tr style=\"text-align: right;\">\n",
       "      <th></th>\n",
       "      <th>Species ID</th>\n",
       "      <th>Bird or Dino</th>\n",
       "      <th>Body Mass (kg)</th>\n",
       "      <th>Total Endocranium (cm3)</th>\n",
       "      <th>Olfactory bulbs (cm3)</th>\n",
       "      <th>Cerebrum (cm3)</th>\n",
       "      <th>Optic Lobes (cm3)</th>\n",
       "      <th>Cerebellum (cm3)</th>\n",
       "      <th>Brain Stem (cm3)</th>\n",
       "      <th>Brain Body Ratio</th>\n",
       "      <th>Cerebrum Ratio</th>\n",
       "    </tr>\n",
       "  </thead>\n",
       "  <tbody>\n",
       "    <tr>\n",
       "      <th>0</th>\n",
       "      <td>3</td>\n",
       "      <td>0</td>\n",
       "      <td>0.01</td>\n",
       "      <td>2.20</td>\n",
       "      <td>0.003</td>\n",
       "      <td>1.57</td>\n",
       "      <td>0.20</td>\n",
       "      <td>0.34</td>\n",
       "      <td>0.08</td>\n",
       "      <td>0.220000</td>\n",
       "      <td>0.713636</td>\n",
       "    </tr>\n",
       "    <tr>\n",
       "      <th>1</th>\n",
       "      <td>4</td>\n",
       "      <td>0</td>\n",
       "      <td>0.03</td>\n",
       "      <td>4.02</td>\n",
       "      <td>0.010</td>\n",
       "      <td>2.22</td>\n",
       "      <td>0.73</td>\n",
       "      <td>0.76</td>\n",
       "      <td>0.29</td>\n",
       "      <td>0.134000</td>\n",
       "      <td>0.552239</td>\n",
       "    </tr>\n",
       "    <tr>\n",
       "      <th>2</th>\n",
       "      <td>5</td>\n",
       "      <td>0</td>\n",
       "      <td>0.02</td>\n",
       "      <td>1.98</td>\n",
       "      <td>0.009</td>\n",
       "      <td>1.53</td>\n",
       "      <td>0.20</td>\n",
       "      <td>0.16</td>\n",
       "      <td>0.06</td>\n",
       "      <td>0.099000</td>\n",
       "      <td>0.772727</td>\n",
       "    </tr>\n",
       "    <tr>\n",
       "      <th>3</th>\n",
       "      <td>6</td>\n",
       "      <td>0</td>\n",
       "      <td>0.01</td>\n",
       "      <td>0.87</td>\n",
       "      <td>0.006</td>\n",
       "      <td>0.46</td>\n",
       "      <td>0.24</td>\n",
       "      <td>0.11</td>\n",
       "      <td>0.06</td>\n",
       "      <td>0.087000</td>\n",
       "      <td>0.528736</td>\n",
       "    </tr>\n",
       "    <tr>\n",
       "      <th>4</th>\n",
       "      <td>7</td>\n",
       "      <td>0</td>\n",
       "      <td>0.17</td>\n",
       "      <td>9.11</td>\n",
       "      <td>0.015</td>\n",
       "      <td>6.09</td>\n",
       "      <td>0.88</td>\n",
       "      <td>1.62</td>\n",
       "      <td>0.49</td>\n",
       "      <td>0.053588</td>\n",
       "      <td>0.668496</td>\n",
       "    </tr>\n",
       "  </tbody>\n",
       "</table>\n",
       "</div>"
      ],
      "text/plain": [
       "   Species ID  Bird or Dino  Body Mass (kg)  Total Endocranium (cm3)  \\\n",
       "0           3             0            0.01                     2.20   \n",
       "1           4             0            0.03                     4.02   \n",
       "2           5             0            0.02                     1.98   \n",
       "3           6             0            0.01                     0.87   \n",
       "4           7             0            0.17                     9.11   \n",
       "\n",
       "   Olfactory bulbs (cm3)  Cerebrum (cm3)  Optic Lobes (cm3)  Cerebellum (cm3)  \\\n",
       "0                  0.003            1.57               0.20              0.34   \n",
       "1                  0.010            2.22               0.73              0.76   \n",
       "2                  0.009            1.53               0.20              0.16   \n",
       "3                  0.006            0.46               0.24              0.11   \n",
       "4                  0.015            6.09               0.88              1.62   \n",
       "\n",
       "   Brain Stem (cm3)  Brain Body Ratio  Cerebrum Ratio  \n",
       "0              0.08          0.220000        0.713636  \n",
       "1              0.29          0.134000        0.552239  \n",
       "2              0.06          0.099000        0.772727  \n",
       "3              0.06          0.087000        0.528736  \n",
       "4              0.49          0.053588        0.668496  "
      ]
     },
     "execution_count": 10,
     "metadata": {},
     "output_type": "execute_result"
    }
   ],
   "source": [
    "df.head()"
   ]
  },
  {
   "cell_type": "markdown",
   "metadata": {},
   "source": [
    "Our machine learning algorithm requires a numpy matrix instead of a dataframe. \n",
    "\n",
    "We can convert the dataframe to a numpy matrix using the .to_numpy() method. Assign your matrix to a variable:"
   ]
  },
  {
   "cell_type": "code",
   "execution_count": 11,
   "metadata": {},
   "outputs": [],
   "source": [
    "data = df.to_numpy()"
   ]
  },
  {
   "cell_type": "markdown",
   "metadata": {},
   "source": [
    "Print out the data type of matrix and the first value in the matrix (note: this is a two dimensional matrix):"
   ]
  },
  {
   "cell_type": "code",
   "execution_count": 12,
   "metadata": {},
   "outputs": [
    {
     "name": "stdout",
     "output_type": "stream",
     "text": [
      "<class 'numpy.ndarray'>\n",
      "<class 'numpy.float64'>\n"
     ]
    }
   ],
   "source": [
    "print(type(data))\n",
    "print(type(data[0,0]))"
   ]
  },
  {
   "cell_type": "markdown",
   "metadata": {},
   "source": [
    "Now we will create our classifier. Just as it is common to call a dataframe \"df\" it is common to call a classifier \"clf\":"
   ]
  },
  {
   "cell_type": "code",
   "execution_count": 13,
   "metadata": {},
   "outputs": [],
   "source": [
    "clf = tree.DecisionTreeClassifier()"
   ]
  },
  {
   "cell_type": "markdown",
   "metadata": {},
   "source": [
    "Next, we will select the x and y data for our algorithm. x should be the two columns we will use to train the algorithm (brain to body ratio and cerebrum to whole brain ratio). y should be the first column which contains our \"class labels\".\n",
    "\n",
    "Hint: You can use slicing to select a particular value from every row of a numpy array. For example, using the index [:,1] will select the second column."
   ]
  },
  {
   "cell_type": "code",
   "execution_count": 14,
   "metadata": {},
   "outputs": [],
   "source": [
    "x = data[:,9:]\n",
    "y = data[:,1]"
   ]
  },
  {
   "cell_type": "markdown",
   "metadata": {},
   "source": [
    "Next we will use the .fit() method to fit our data to the classifier:"
   ]
  },
  {
   "cell_type": "code",
   "execution_count": 15,
   "metadata": {},
   "outputs": [],
   "source": [
    "clf = clf.fit(x, y)"
   ]
  },
  {
   "cell_type": "markdown",
   "metadata": {},
   "source": [
    "We can visualize the path of the decision tree's decision making using the .plot_tree function:"
   ]
  },
  {
   "cell_type": "code",
   "execution_count": 20,
   "metadata": {},
   "outputs": [
    {
     "ename": "AttributeError",
     "evalue": "module 'sklearn.tree' has no attribute 'plot_tree'",
     "output_type": "error",
     "traceback": [
      "\u001b[0;31m---------------------------------------------------------------------------\u001b[0m",
      "\u001b[0;31mAttributeError\u001b[0m                            Traceback (most recent call last)",
      "\u001b[0;32m<ipython-input-20-2e42e776df03>\u001b[0m in \u001b[0;36m<module>\u001b[0;34m\u001b[0m\n\u001b[0;32m----> 1\u001b[0;31m \u001b[0mtree\u001b[0m\u001b[0;34m.\u001b[0m\u001b[0mplot_tree\u001b[0m\u001b[0;34m(\u001b[0m\u001b[0mclf\u001b[0m\u001b[0;34m,\u001b[0m \u001b[0mclass_names\u001b[0m\u001b[0;34m=\u001b[0m\u001b[0;34m[\u001b[0m\u001b[0;34m\"Bird\"\u001b[0m\u001b[0;34m,\u001b[0m\u001b[0;34m\"Dino\"\u001b[0m\u001b[0;34m]\u001b[0m\u001b[0;34m)\u001b[0m\u001b[0;34m\u001b[0m\u001b[0;34m\u001b[0m\u001b[0m\n\u001b[0m\u001b[1;32m      2\u001b[0m \u001b[0mplt\u001b[0m\u001b[0;34m.\u001b[0m\u001b[0mshow\u001b[0m\u001b[0;34m(\u001b[0m\u001b[0;34m)\u001b[0m\u001b[0;34m\u001b[0m\u001b[0;34m\u001b[0m\u001b[0m\n",
      "\u001b[0;31mAttributeError\u001b[0m: module 'sklearn.tree' has no attribute 'plot_tree'"
     ]
    }
   ],
   "source": [
    "tree.plot_tree(clf, class_names=[\"Bird\",\"Dino\"]) \n",
    "plt.show()"
   ]
  },
  {
   "cell_type": "markdown",
   "metadata": {},
   "source": [
    "Now let's test out our decision tree with some data from one of the brains we studied! We can use the .predict_proba method. \n",
    "\n",
    "A result of array([[1., 0.]]) means the algorithm is certain it's a bird and a result of array([[0., 1.]]) means the algorithm is certain it's a dinosaur.\n",
    "\n",
    "For example:"
   ]
  },
  {
   "cell_type": "code",
   "execution_count": 31,
   "metadata": {},
   "outputs": [
    {
     "data": {
      "text/plain": [
       "array([[1., 0.]])"
      ]
     },
     "execution_count": 31,
     "metadata": {},
     "output_type": "execute_result"
    }
   ],
   "source": [
    "# This is the brain to body mass ratio and cerebrum to whole brain ratio for the woodpecker:\n",
    "clf.predict_proba([[0.22,0.71]])"
   ]
  },
  {
   "cell_type": "markdown",
   "metadata": {},
   "source": [
    "Try it with the data from your brain specimen!"
   ]
  },
  {
   "cell_type": "code",
   "execution_count": 32,
   "metadata": {},
   "outputs": [
    {
     "data": {
      "text/plain": [
       "array([[0., 1.]])"
      ]
     },
     "execution_count": 32,
     "metadata": {},
     "output_type": "execute_result"
    }
   ],
   "source": [
    "clf.predict_proba([[0.0005,0.59]])"
   ]
  },
  {
   "cell_type": "markdown",
   "metadata": {},
   "source": [
    "## Bonus Challenge: \n",
    "Try to train another classifier that's based on the size of each brain region and test it out!"
   ]
  },
  {
   "cell_type": "code",
   "execution_count": null,
   "metadata": {},
   "outputs": [],
   "source": []
  }
 ],
 "metadata": {
  "kernelspec": {
   "display_name": "Python 3",
   "language": "python",
   "name": "python3"
  },
  "language_info": {
   "codemirror_mode": {
    "name": "ipython",
    "version": 3
   },
   "file_extension": ".py",
   "mimetype": "text/x-python",
   "name": "python",
   "nbconvert_exporter": "python",
   "pygments_lexer": "ipython3",
   "version": "3.7.3"
  }
 },
 "nbformat": 4,
 "nbformat_minor": 2
}
