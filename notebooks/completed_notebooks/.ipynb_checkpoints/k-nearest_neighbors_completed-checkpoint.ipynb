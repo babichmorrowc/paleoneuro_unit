{
 "cells": [
  {
   "cell_type": "markdown",
   "metadata": {},
   "source": [
    "# K-Nearest Neighbors\n",
    "\n",
    "We are now going to use a different machine learning algorithm to classify our brains, this time using a k-nearest neighbors approach. This is similar in concept to the function you wrote in the paleo-neuro unit to classify your 3-D printed brain.\n",
    "\n",
    "## Import libraries\n",
    "\n",
    "First, we need to import some libraries. Import `pandas`, `numpy`, and `matplotlib.pyplot`. From `sklearn`, import `neighbors` and `datasets`."
   ]
  },
  {
   "cell_type": "code",
   "execution_count": 1,
   "metadata": {},
   "outputs": [],
   "source": [
    "import pandas as pd\n",
    "import numpy as np\n",
    "import matplotlib.pyplot as plt\n",
    "from sklearn import neighbors\n",
    "from sklearn import datasets"
   ]
  },
  {
   "cell_type": "markdown",
   "metadata": {},
   "source": [
    "## Import data\n",
    "\n",
    "Now we need to import our bird and dinosaur brain data and calculate the brain to body ratio and cerebrum to whole brain ratio. We also need to convert the bird and dinosaur classifications to 0s and 1s like you did in the decision tree notebook. Finally, we need to convert the data to a numpy array."
   ]
  },
  {
   "cell_type": "code",
   "execution_count": 2,
   "metadata": {},
   "outputs": [
    {
     "name": "stderr",
     "output_type": "stream",
     "text": [
      "/Applications/anaconda3/lib/python3.7/site-packages/pandas/core/indexing.py:190: SettingWithCopyWarning: \n",
      "A value is trying to be set on a copy of a slice from a DataFrame\n",
      "\n",
      "See the caveats in the documentation: http://pandas.pydata.org/pandas-docs/stable/indexing.html#indexing-view-versus-copy\n",
      "  self._setitem_with_indexer(indexer, value)\n"
     ]
    }
   ],
   "source": [
    "df = pd.read_csv(\"../../data/bird_dino_data.csv\")\n",
    "df.head()\n",
    "df[\"Total Endocranium (cm3)\"] = df[\"Olfactory bulbs (cm3)\"] + df[\"Cerebrum (cm3)\"] + df[\"Optic Lobes (cm3)\"] + df[\"Cerebellum (cm3)\"]\n",
    "df[\"Brain Body Ratio\"] = df[\"Total Endocranium (cm3)\"]/(df[\"Body Mass (kg)\"]*1000)\n",
    "df[\"Cerebrum Ratio\"] = df[\"Cerebrum (cm3)\"]/df[\"Total Endocranium (cm3)\"]\n",
    "df[\"Bird vs Dino\"].loc[df[\"Bird vs Dino\"] == \"Bird\"] = 0\n",
    "df[\"Bird vs Dino\"].loc[df[\"Bird vs Dino\"] == \"Dino\"] = 1\n",
    "data = df.to_numpy()"
   ]
  },
  {
   "cell_type": "markdown",
   "metadata": {},
   "source": [
    "## Set x and y\n",
    "\n",
    "Again, just as in the decision tree, we need to set `x` and `y` variables corresponding to our features (brain to body mass ratio and cerebrum to whole brain ratio) and classes (birds and dinosaurs), respectively."
   ]
  },
  {
   "cell_type": "code",
   "execution_count": 3,
   "metadata": {},
   "outputs": [],
   "source": [
    "x = data[:,9:]\n",
    "y = data[:,1]"
   ]
  },
  {
   "cell_type": "markdown",
   "metadata": {},
   "source": [
    "## Train / test split\n",
    "\n",
    "We are going to split up our dataset into training data, that we will use to train the algorithm, and test data, that we will use to see how well the algorithm performs. From `sklearn.model_selection`, import `train_test_split`. Next, look at the documentation for `train_test_split` to divide the data into 80% training and 20% test data:"
   ]
  },
  {
   "cell_type": "code",
   "execution_count": 4,
   "metadata": {},
   "outputs": [],
   "source": [
    "from sklearn.model_selection import train_test_split\n",
    "x_train, x_test, y_train, y_test = train_test_split(x, y, test_size=0.20)"
   ]
  },
  {
   "cell_type": "markdown",
   "metadata": {},
   "source": [
    "## Run k-nearest neighbors\n",
    "\n",
    "Now it is time to actually run the k-nearest neighbors! Look at the documentation for `KNeighborsClassifiers`: https://scikit-learn.org/stable/modules/generated/sklearn.neighbors.KNeighborsClassifier.html. Let's start with `n_neighbors` as 5, which is the default."
   ]
  },
  {
   "cell_type": "code",
   "execution_count": 6,
   "metadata": {},
   "outputs": [],
   "source": [
    "neigh = neighbors.KNeighborsClassifier(n_neighbors=5)"
   ]
  },
  {
   "cell_type": "markdown",
   "metadata": {},
   "source": [
    "Now, just as you did for the decision tree, you need to run `fit` based on what you called your k-nearest neighbors result. Use the training data you created (split up into x and y)."
   ]
  },
  {
   "cell_type": "code",
   "execution_count": 8,
   "metadata": {},
   "outputs": [],
   "source": [
    "fit = neigh.fit(x_train, y_train)"
   ]
  },
  {
   "cell_type": "markdown",
   "metadata": {},
   "source": [
    "## Testing\n",
    "\n",
    "Now, we can evaluate our model on the test data you created by running `predict`  on the test data. We can see whether the algorithm classifies this test data as either a bird or dinosaur based on the values of the two ratios."
   ]
  },
  {
   "cell_type": "code",
   "execution_count": 11,
   "metadata": {},
   "outputs": [],
   "source": [
    "y_pred = neigh.predict(x_test)"
   ]
  },
  {
   "cell_type": "markdown",
   "metadata": {},
   "source": [
    "We can calculate the accuracy by importing `metrics` from `sklearn`:"
   ]
  },
  {
   "cell_type": "code",
   "execution_count": 10,
   "metadata": {},
   "outputs": [],
   "source": [
    "from sklearn import metrics"
   ]
  },
  {
   "cell_type": "markdown",
   "metadata": {},
   "source": [
    "We can use `metrics.accuracy_score` to compare the predicted classifications with the actual identities of the brains in our test data."
   ]
  },
  {
   "cell_type": "code",
   "execution_count": 12,
   "metadata": {},
   "outputs": [
    {
     "data": {
      "text/plain": [
       "1.0"
      ]
     },
     "execution_count": 12,
     "metadata": {},
     "output_type": "execute_result"
    }
   ],
   "source": [
    "metrics.accuracy_score(y_test, y_pred)"
   ]
  },
  {
   "cell_type": "code",
   "execution_count": null,
   "metadata": {},
   "outputs": [],
   "source": []
  }
 ],
 "metadata": {
  "kernelspec": {
   "display_name": "Python 3",
   "language": "python",
   "name": "python3"
  },
  "language_info": {
   "codemirror_mode": {
    "name": "ipython",
    "version": 3
   },
   "file_extension": ".py",
   "mimetype": "text/x-python",
   "name": "python",
   "nbconvert_exporter": "python",
   "pygments_lexer": "ipython3",
   "version": "3.7.3"
  }
 },
 "nbformat": 4,
 "nbformat_minor": 2
}
