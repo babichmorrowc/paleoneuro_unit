{
 "cells": [
  {
   "cell_type": "markdown",
   "metadata": {},
   "source": [
    "# Adding reptiles\n",
    "\n",
    "We have some data to compare alligators to birds and dinosaurs based on body mass, brain volume, and cerebrum volume. Although there are only two alligator data points (coded \"R\" for reptile), we can still build a decision tree to see how the computer can classify reptiles relative to birds and dinosaurs.\n",
    "\n",
    "## Import libraries and data\n",
    "\n",
    "Following your code from the PaleoNeuro_FinalProject_bonus notebook, import the libraries you need to build a decision tree and read the bird_dino_gator.csv file into a dataframe."
   ]
  },
  {
   "cell_type": "code",
   "execution_count": 1,
   "metadata": {},
   "outputs": [
    {
     "data": {
      "text/html": [
       "<div>\n",
       "<style scoped>\n",
       "    .dataframe tbody tr th:only-of-type {\n",
       "        vertical-align: middle;\n",
       "    }\n",
       "\n",
       "    .dataframe tbody tr th {\n",
       "        vertical-align: top;\n",
       "    }\n",
       "\n",
       "    .dataframe thead th {\n",
       "        text-align: right;\n",
       "    }\n",
       "</style>\n",
       "<table border=\"1\" class=\"dataframe\">\n",
       "  <thead>\n",
       "    <tr style=\"text-align: right;\">\n",
       "      <th></th>\n",
       "      <th>Species ID</th>\n",
       "      <th>Species Type</th>\n",
       "      <th>Body Mass (kg)</th>\n",
       "      <th>Whole Brain (cm3)</th>\n",
       "      <th>Cerebrum (cm3)</th>\n",
       "    </tr>\n",
       "  </thead>\n",
       "  <tbody>\n",
       "    <tr>\n",
       "      <th>0</th>\n",
       "      <td>1</td>\n",
       "      <td>B</td>\n",
       "      <td>0.02</td>\n",
       "      <td>1.899</td>\n",
       "      <td>1.53</td>\n",
       "    </tr>\n",
       "    <tr>\n",
       "      <th>1</th>\n",
       "      <td>2</td>\n",
       "      <td>B</td>\n",
       "      <td>1.26</td>\n",
       "      <td>21.356</td>\n",
       "      <td>16.81</td>\n",
       "    </tr>\n",
       "    <tr>\n",
       "      <th>2</th>\n",
       "      <td>3</td>\n",
       "      <td>B</td>\n",
       "      <td>2.18</td>\n",
       "      <td>13.946</td>\n",
       "      <td>11.08</td>\n",
       "    </tr>\n",
       "    <tr>\n",
       "      <th>3</th>\n",
       "      <td>4</td>\n",
       "      <td>D</td>\n",
       "      <td>0.25</td>\n",
       "      <td>0.710</td>\n",
       "      <td>0.41</td>\n",
       "    </tr>\n",
       "    <tr>\n",
       "      <th>4</th>\n",
       "      <td>5</td>\n",
       "      <td>B</td>\n",
       "      <td>0.01</td>\n",
       "      <td>2.113</td>\n",
       "      <td>1.57</td>\n",
       "    </tr>\n",
       "  </tbody>\n",
       "</table>\n",
       "</div>"
      ],
      "text/plain": [
       "   Species ID Species Type  Body Mass (kg)  Whole Brain (cm3)  Cerebrum (cm3)\n",
       "0           1            B            0.02              1.899            1.53\n",
       "1           2            B            1.26             21.356           16.81\n",
       "2           3            B            2.18             13.946           11.08\n",
       "3           4            D            0.25              0.710            0.41\n",
       "4           5            B            0.01              2.113            1.57"
      ]
     },
     "execution_count": 1,
     "metadata": {},
     "output_type": "execute_result"
    }
   ],
   "source": [
    "import pandas as pd\n",
    "import numpy as np\n",
    "import matplotlib.pyplot as plt\n",
    "from sklearn import tree\n",
    "from sklearn.tree import export_graphviz\n",
    "import pydotplus\n",
    "import graphviz\n",
    "\n",
    "df = pd.read_csv(\"../../data/bird_dino_gator.csv\")\n",
    "df.head()"
   ]
  },
  {
   "cell_type": "markdown",
   "metadata": {},
   "source": [
    "## Data cleaning\n",
    "\n",
    "In this case, the data has columns for Body Mass (kg), whole brain volume (cm3) and cerebrum volume (cm3). Create two new columns for brain vs. body mass and cerebrum vs. whole brain."
   ]
  },
  {
   "cell_type": "code",
   "execution_count": 2,
   "metadata": {},
   "outputs": [],
   "source": [
    "df[\"Brain Body Ratio\"] = df[\"Whole Brain (cm3)\"]/(df[\"Body Mass (kg)\"]*1000)\n",
    "df[\"Cerebrum Ratio\"] = df[\"Cerebrum (cm3)\"]/df[\"Whole Brain (cm3)\"]"
   ]
  },
  {
   "cell_type": "markdown",
   "metadata": {},
   "source": [
    "Change the values of the \"Species Type\" column from \"B\" to \"0\", from \"D\" to \"1\", and from \"R\" to \"2\". (Note that we now have 3 classes because we have added reptiles."
   ]
  },
  {
   "cell_type": "code",
   "execution_count": 4,
   "metadata": {},
   "outputs": [
    {
     "name": "stderr",
     "output_type": "stream",
     "text": [
      "/Applications/anaconda3/lib/python3.7/site-packages/pandas/core/ops.py:1649: FutureWarning: elementwise comparison failed; returning scalar instead, but in the future will perform elementwise comparison\n",
      "  result = method(y)\n"
     ]
    },
    {
     "data": {
      "text/html": [
       "<div>\n",
       "<style scoped>\n",
       "    .dataframe tbody tr th:only-of-type {\n",
       "        vertical-align: middle;\n",
       "    }\n",
       "\n",
       "    .dataframe tbody tr th {\n",
       "        vertical-align: top;\n",
       "    }\n",
       "\n",
       "    .dataframe thead th {\n",
       "        text-align: right;\n",
       "    }\n",
       "</style>\n",
       "<table border=\"1\" class=\"dataframe\">\n",
       "  <thead>\n",
       "    <tr style=\"text-align: right;\">\n",
       "      <th></th>\n",
       "      <th>Species ID</th>\n",
       "      <th>Species Type</th>\n",
       "      <th>Body Mass (kg)</th>\n",
       "      <th>Whole Brain (cm3)</th>\n",
       "      <th>Cerebrum (cm3)</th>\n",
       "      <th>Brain Body Ratio</th>\n",
       "      <th>Cerebrum Ratio</th>\n",
       "    </tr>\n",
       "  </thead>\n",
       "  <tbody>\n",
       "    <tr>\n",
       "      <th>0</th>\n",
       "      <td>1</td>\n",
       "      <td>0</td>\n",
       "      <td>0.02</td>\n",
       "      <td>1.899</td>\n",
       "      <td>1.53</td>\n",
       "      <td>0.094950</td>\n",
       "      <td>0.805687</td>\n",
       "    </tr>\n",
       "    <tr>\n",
       "      <th>1</th>\n",
       "      <td>2</td>\n",
       "      <td>0</td>\n",
       "      <td>1.26</td>\n",
       "      <td>21.356</td>\n",
       "      <td>16.81</td>\n",
       "      <td>0.016949</td>\n",
       "      <td>0.787132</td>\n",
       "    </tr>\n",
       "    <tr>\n",
       "      <th>2</th>\n",
       "      <td>3</td>\n",
       "      <td>0</td>\n",
       "      <td>2.18</td>\n",
       "      <td>13.946</td>\n",
       "      <td>11.08</td>\n",
       "      <td>0.006397</td>\n",
       "      <td>0.794493</td>\n",
       "    </tr>\n",
       "    <tr>\n",
       "      <th>3</th>\n",
       "      <td>4</td>\n",
       "      <td>1</td>\n",
       "      <td>0.25</td>\n",
       "      <td>0.710</td>\n",
       "      <td>0.41</td>\n",
       "      <td>0.002840</td>\n",
       "      <td>0.577465</td>\n",
       "    </tr>\n",
       "    <tr>\n",
       "      <th>4</th>\n",
       "      <td>5</td>\n",
       "      <td>0</td>\n",
       "      <td>0.01</td>\n",
       "      <td>2.113</td>\n",
       "      <td>1.57</td>\n",
       "      <td>0.211300</td>\n",
       "      <td>0.743019</td>\n",
       "    </tr>\n",
       "  </tbody>\n",
       "</table>\n",
       "</div>"
      ],
      "text/plain": [
       "   Species ID  Species Type  Body Mass (kg)  Whole Brain (cm3)  \\\n",
       "0           1             0            0.02              1.899   \n",
       "1           2             0            1.26             21.356   \n",
       "2           3             0            2.18             13.946   \n",
       "3           4             1            0.25              0.710   \n",
       "4           5             0            0.01              2.113   \n",
       "\n",
       "   Cerebrum (cm3)  Brain Body Ratio  Cerebrum Ratio  \n",
       "0            1.53          0.094950        0.805687  \n",
       "1           16.81          0.016949        0.787132  \n",
       "2           11.08          0.006397        0.794493  \n",
       "3            0.41          0.002840        0.577465  \n",
       "4            1.57          0.211300        0.743019  "
      ]
     },
     "execution_count": 4,
     "metadata": {},
     "output_type": "execute_result"
    }
   ],
   "source": [
    "df[\"Species Type\"].loc[df[\"Species Type\"] == \"B\"] = 0\n",
    "df[\"Species Type\"].loc[df[\"Species Type\"] == \"D\"] = 1\n",
    "df[\"Species Type\"].loc[df[\"Species Type\"] == \"R\"] = 2\n",
    "\n",
    "df.head()"
   ]
  },
  {
   "cell_type": "markdown",
   "metadata": {},
   "source": [
    "Convert the dataframe to a numpy array."
   ]
  },
  {
   "cell_type": "code",
   "execution_count": 6,
   "metadata": {},
   "outputs": [],
   "source": [
    "data = df.to_numpy()"
   ]
  },
  {
   "cell_type": "markdown",
   "metadata": {},
   "source": [
    "## Create decision tree\n",
    "\n",
    "Now, create a decision tree classifier to classify the brains as birds, dinosaurs, or reptiles based on the brain to body mass ratio and cerebrum to whole brain ratio (following the code you wrote earlier this week)."
   ]
  },
  {
   "cell_type": "code",
   "execution_count": 9,
   "metadata": {},
   "outputs": [
    {
     "data": {
      "image/png": "[encoded data removed]",
      "text/plain": [
       "<Figure size 432x288 with 1 Axes>"
      ]
     },
     "metadata": {
      "needs_background": "light"
     },
     "output_type": "display_data"
    }
   ],
   "source": [
    "clf = tree.DecisionTreeClassifier()\n",
    "x = data[:,5:]\n",
    "y = data[:,1]\n",
    "clf = clf.fit(x, y)\n",
    "tree.plot_tree(clf, class_names=[\"Bird\",\"Dino\", \"Reptile\"], feature_names=[\"Brain Body Ratio\", \"Cerebrum Ratio\"]) \n",
    "plt.show()"
   ]
  },
  {
   "cell_type": "markdown",
   "metadata": {},
   "source": [
    "Use the `graphviz` library to beautify your decision tree a little bit. You can also create a decision surface for your decision tree to show the regions predicted for birds, dinosaurs, and reptiles."
   ]
  },
  {
   "cell_type": "code",
   "execution_count": null,
   "metadata": {},
   "outputs": [],
   "source": []
  }
 ],
 "metadata": {
  "kernelspec": {
   "display_name": "Python 3",
   "language": "python",
   "name": "python3"
  },
  "language_info": {
   "codemirror_mode": {
    "name": "ipython",
    "version": 3
   },
   "file_extension": ".py",
   "mimetype": "text/x-python",
   "name": "python",
   "nbconvert_exporter": "python",
   "pygments_lexer": "ipython3",
   "version": "3.7.3"
  }
 },
 "nbformat": 4,
 "nbformat_minor": 2
}
