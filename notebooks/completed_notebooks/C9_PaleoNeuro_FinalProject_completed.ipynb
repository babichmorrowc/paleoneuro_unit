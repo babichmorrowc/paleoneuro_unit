{
 "cells": [
  {
   "cell_type": "markdown",
   "metadata": {},
   "source": [
    "# Classifying brains with Machine Learning\n",
    "\n",
    "This notebook is the first notebook used by Cohort 9 to classify bird and dinosaur brain data.\n",
    "\n",
    "In this notebook you will learn how to use machine learning to predict whether or not a brain belongs to a modern bird or a non-avian dinosaur. "
   ]
  },
  {
   "cell_type": "markdown",
   "metadata": {},
   "source": [
    "First import pandas, numpy, and matplotlib.pyplot:"
   ]
  },
  {
   "cell_type": "code",
   "execution_count": 1,
   "metadata": {},
   "outputs": [],
   "source": [
    "import pandas as pd\n",
    "import numpy as np\n",
    "import matplotlib.pyplot as plt\n",
    "from sklearn.tree import export_graphviz\n",
    "import pydotplus\n",
    "import graphviz"
   ]
  },
  {
   "cell_type": "markdown",
   "metadata": {},
   "source": [
    "We will also need the tree module of the sklearn library:"
   ]
  },
  {
   "cell_type": "code",
   "execution_count": 2,
   "metadata": {},
   "outputs": [],
   "source": [
    "from sklearn import tree"
   ]
  },
  {
   "cell_type": "markdown",
   "metadata": {},
   "source": [
    "Read the bird_dino_data.csv file into a dataframe and add two new columns:\n",
    "- Brain vs body mass (use total endocranium / body mass*1000)\n",
    "- Cerebrum vs total brain (use cerebrum / endocranium)"
   ]
  },
  {
   "cell_type": "code",
   "execution_count": 9,
   "metadata": {},
   "outputs": [
    {
     "data": {
      "text/html": [
       "<div>\n",
       "<style scoped>\n",
       "    .dataframe tbody tr th:only-of-type {\n",
       "        vertical-align: middle;\n",
       "    }\n",
       "\n",
       "    .dataframe tbody tr th {\n",
       "        vertical-align: top;\n",
       "    }\n",
       "\n",
       "    .dataframe thead th {\n",
       "        text-align: right;\n",
       "    }\n",
       "</style>\n",
       "<table border=\"1\" class=\"dataframe\">\n",
       "  <thead>\n",
       "    <tr style=\"text-align: right;\">\n",
       "      <th></th>\n",
       "      <th>Species ID</th>\n",
       "      <th>Bird or Dino</th>\n",
       "      <th>Body Mass (kg)</th>\n",
       "      <th>Total Endocranium (cm3)</th>\n",
       "      <th>Olfactory bulbs (cm3)</th>\n",
       "      <th>Cerebrum (cm3)</th>\n",
       "      <th>Optic Lobes (cm3)</th>\n",
       "      <th>Cerebellum (cm3)</th>\n",
       "      <th>Brain Stem (cm3)</th>\n",
       "    </tr>\n",
       "  </thead>\n",
       "  <tbody>\n",
       "    <tr>\n",
       "      <th>0</th>\n",
       "      <td>3</td>\n",
       "      <td>Bird</td>\n",
       "      <td>0.01</td>\n",
       "      <td>2.20</td>\n",
       "      <td>0.003</td>\n",
       "      <td>1.57</td>\n",
       "      <td>0.20</td>\n",
       "      <td>0.34</td>\n",
       "      <td>0.08</td>\n",
       "    </tr>\n",
       "    <tr>\n",
       "      <th>1</th>\n",
       "      <td>4</td>\n",
       "      <td>Bird</td>\n",
       "      <td>0.03</td>\n",
       "      <td>4.02</td>\n",
       "      <td>0.010</td>\n",
       "      <td>2.22</td>\n",
       "      <td>0.73</td>\n",
       "      <td>0.76</td>\n",
       "      <td>0.29</td>\n",
       "    </tr>\n",
       "    <tr>\n",
       "      <th>2</th>\n",
       "      <td>5</td>\n",
       "      <td>Bird</td>\n",
       "      <td>0.02</td>\n",
       "      <td>1.98</td>\n",
       "      <td>0.009</td>\n",
       "      <td>1.53</td>\n",
       "      <td>0.20</td>\n",
       "      <td>0.16</td>\n",
       "      <td>0.06</td>\n",
       "    </tr>\n",
       "    <tr>\n",
       "      <th>3</th>\n",
       "      <td>6</td>\n",
       "      <td>Bird</td>\n",
       "      <td>0.01</td>\n",
       "      <td>0.87</td>\n",
       "      <td>0.006</td>\n",
       "      <td>0.46</td>\n",
       "      <td>0.24</td>\n",
       "      <td>0.11</td>\n",
       "      <td>0.06</td>\n",
       "    </tr>\n",
       "    <tr>\n",
       "      <th>4</th>\n",
       "      <td>7</td>\n",
       "      <td>Bird</td>\n",
       "      <td>0.17</td>\n",
       "      <td>9.11</td>\n",
       "      <td>0.015</td>\n",
       "      <td>6.09</td>\n",
       "      <td>0.88</td>\n",
       "      <td>1.62</td>\n",
       "      <td>0.49</td>\n",
       "    </tr>\n",
       "  </tbody>\n",
       "</table>\n",
       "</div>"
      ],
      "text/plain": [
       "   Species ID Bird or Dino  Body Mass (kg)  Total Endocranium (cm3)  \\\n",
       "0           3         Bird            0.01                     2.20   \n",
       "1           4         Bird            0.03                     4.02   \n",
       "2           5         Bird            0.02                     1.98   \n",
       "3           6         Bird            0.01                     0.87   \n",
       "4           7         Bird            0.17                     9.11   \n",
       "\n",
       "   Olfactory bulbs (cm3)  Cerebrum (cm3)  Optic Lobes (cm3)  Cerebellum (cm3)  \\\n",
       "0                  0.003            1.57               0.20              0.34   \n",
       "1                  0.010            2.22               0.73              0.76   \n",
       "2                  0.009            1.53               0.20              0.16   \n",
       "3                  0.006            0.46               0.24              0.11   \n",
       "4                  0.015            6.09               0.88              1.62   \n",
       "\n",
       "   Brain Stem (cm3)  \n",
       "0              0.08  \n",
       "1              0.29  \n",
       "2              0.06  \n",
       "3              0.06  \n",
       "4              0.49  "
      ]
     },
     "execution_count": 9,
     "metadata": {},
     "output_type": "execute_result"
    }
   ],
   "source": [
    "df = pd.read_csv(\"../../data/bird_dino_data_c9.csv\")\n",
    "df.head()"
   ]
  },
  {
   "cell_type": "code",
   "execution_count": 10,
   "metadata": {},
   "outputs": [],
   "source": [
    "df[\"Brain Body Ratio\"] = df[\"Total Endocranium (cm3)\"]/(df[\"Body Mass (kg)\"]*1000)\n",
    "df[\"Cerebrum Ratio\"] = df[\"Cerebrum (cm3)\"]/df[\"Total Endocranium (cm3)\"]"
   ]
  },
  {
   "cell_type": "markdown",
   "metadata": {},
   "source": [
    "Find the head of your dataframe to check that your changes are correct:"
   ]
  },
  {
   "cell_type": "code",
   "execution_count": 11,
   "metadata": {},
   "outputs": [
    {
     "data": {
      "text/html": [
       "<div>\n",
       "<style scoped>\n",
       "    .dataframe tbody tr th:only-of-type {\n",
       "        vertical-align: middle;\n",
       "    }\n",
       "\n",
       "    .dataframe tbody tr th {\n",
       "        vertical-align: top;\n",
       "    }\n",
       "\n",
       "    .dataframe thead th {\n",
       "        text-align: right;\n",
       "    }\n",
       "</style>\n",
       "<table border=\"1\" class=\"dataframe\">\n",
       "  <thead>\n",
       "    <tr style=\"text-align: right;\">\n",
       "      <th></th>\n",
       "      <th>Species ID</th>\n",
       "      <th>Bird or Dino</th>\n",
       "      <th>Body Mass (kg)</th>\n",
       "      <th>Total Endocranium (cm3)</th>\n",
       "      <th>Olfactory bulbs (cm3)</th>\n",
       "      <th>Cerebrum (cm3)</th>\n",
       "      <th>Optic Lobes (cm3)</th>\n",
       "      <th>Cerebellum (cm3)</th>\n",
       "      <th>Brain Stem (cm3)</th>\n",
       "      <th>Brain Body Ratio</th>\n",
       "      <th>Cerebrum Ratio</th>\n",
       "    </tr>\n",
       "  </thead>\n",
       "  <tbody>\n",
       "    <tr>\n",
       "      <th>0</th>\n",
       "      <td>3</td>\n",
       "      <td>Bird</td>\n",
       "      <td>0.01</td>\n",
       "      <td>2.20</td>\n",
       "      <td>0.003</td>\n",
       "      <td>1.57</td>\n",
       "      <td>0.20</td>\n",
       "      <td>0.34</td>\n",
       "      <td>0.08</td>\n",
       "      <td>0.220000</td>\n",
       "      <td>0.713636</td>\n",
       "    </tr>\n",
       "    <tr>\n",
       "      <th>1</th>\n",
       "      <td>4</td>\n",
       "      <td>Bird</td>\n",
       "      <td>0.03</td>\n",
       "      <td>4.02</td>\n",
       "      <td>0.010</td>\n",
       "      <td>2.22</td>\n",
       "      <td>0.73</td>\n",
       "      <td>0.76</td>\n",
       "      <td>0.29</td>\n",
       "      <td>0.134000</td>\n",
       "      <td>0.552239</td>\n",
       "    </tr>\n",
       "    <tr>\n",
       "      <th>2</th>\n",
       "      <td>5</td>\n",
       "      <td>Bird</td>\n",
       "      <td>0.02</td>\n",
       "      <td>1.98</td>\n",
       "      <td>0.009</td>\n",
       "      <td>1.53</td>\n",
       "      <td>0.20</td>\n",
       "      <td>0.16</td>\n",
       "      <td>0.06</td>\n",
       "      <td>0.099000</td>\n",
       "      <td>0.772727</td>\n",
       "    </tr>\n",
       "    <tr>\n",
       "      <th>3</th>\n",
       "      <td>6</td>\n",
       "      <td>Bird</td>\n",
       "      <td>0.01</td>\n",
       "      <td>0.87</td>\n",
       "      <td>0.006</td>\n",
       "      <td>0.46</td>\n",
       "      <td>0.24</td>\n",
       "      <td>0.11</td>\n",
       "      <td>0.06</td>\n",
       "      <td>0.087000</td>\n",
       "      <td>0.528736</td>\n",
       "    </tr>\n",
       "    <tr>\n",
       "      <th>4</th>\n",
       "      <td>7</td>\n",
       "      <td>Bird</td>\n",
       "      <td>0.17</td>\n",
       "      <td>9.11</td>\n",
       "      <td>0.015</td>\n",
       "      <td>6.09</td>\n",
       "      <td>0.88</td>\n",
       "      <td>1.62</td>\n",
       "      <td>0.49</td>\n",
       "      <td>0.053588</td>\n",
       "      <td>0.668496</td>\n",
       "    </tr>\n",
       "  </tbody>\n",
       "</table>\n",
       "</div>"
      ],
      "text/plain": [
       "   Species ID Bird or Dino  Body Mass (kg)  Total Endocranium (cm3)  \\\n",
       "0           3         Bird            0.01                     2.20   \n",
       "1           4         Bird            0.03                     4.02   \n",
       "2           5         Bird            0.02                     1.98   \n",
       "3           6         Bird            0.01                     0.87   \n",
       "4           7         Bird            0.17                     9.11   \n",
       "\n",
       "   Olfactory bulbs (cm3)  Cerebrum (cm3)  Optic Lobes (cm3)  Cerebellum (cm3)  \\\n",
       "0                  0.003            1.57               0.20              0.34   \n",
       "1                  0.010            2.22               0.73              0.76   \n",
       "2                  0.009            1.53               0.20              0.16   \n",
       "3                  0.006            0.46               0.24              0.11   \n",
       "4                  0.015            6.09               0.88              1.62   \n",
       "\n",
       "   Brain Stem (cm3)  Brain Body Ratio  Cerebrum Ratio  \n",
       "0              0.08          0.220000        0.713636  \n",
       "1              0.29          0.134000        0.552239  \n",
       "2              0.06          0.099000        0.772727  \n",
       "3              0.06          0.087000        0.528736  \n",
       "4              0.49          0.053588        0.668496  "
      ]
     },
     "execution_count": 11,
     "metadata": {},
     "output_type": "execute_result"
    }
   ],
   "source": [
    "df.head()"
   ]
  },
  {
   "cell_type": "markdown",
   "metadata": {},
   "source": [
    "Our machine learning library requires that we replace our \"classes\" with integers instead of strings. \n",
    "\n",
    "Change the values of the \"Bird or Dino\" column from \"Bird\" to \"0\" and from \"Dino\" to \"1\":\n",
    "\n",
    "Hints: \n",
    "- use .loc indexes\n",
    "- you can reassign the value in a dataframe column using =\n",
    "\n",
    "*Ignore the warning. Pandas tries to discourage you from making changes to the original dataframe, but it's ok*"
   ]
  },
  {
   "cell_type": "code",
   "execution_count": 12,
   "metadata": {},
   "outputs": [
    {
     "name": "stderr",
     "output_type": "stream",
     "text": [
      "/Applications/anaconda3/lib/python3.7/site-packages/pandas/core/indexing.py:190: SettingWithCopyWarning: \n",
      "A value is trying to be set on a copy of a slice from a DataFrame\n",
      "\n",
      "See the caveats in the documentation: http://pandas.pydata.org/pandas-docs/stable/indexing.html#indexing-view-versus-copy\n",
      "  self._setitem_with_indexer(indexer, value)\n"
     ]
    }
   ],
   "source": [
    "df[\"Bird or Dino\"].loc[df[\"Bird or Dino\"] == \"Bird\"] = 0\n",
    "df[\"Bird or Dino\"].loc[df[\"Bird or Dino\"] == \"Dino\"] = 1"
   ]
  },
  {
   "cell_type": "markdown",
   "metadata": {},
   "source": [
    "Find the head of your dataframe to check that your changes are correct:"
   ]
  },
  {
   "cell_type": "code",
   "execution_count": 13,
   "metadata": {},
   "outputs": [
    {
     "data": {
      "text/html": [
       "<div>\n",
       "<style scoped>\n",
       "    .dataframe tbody tr th:only-of-type {\n",
       "        vertical-align: middle;\n",
       "    }\n",
       "\n",
       "    .dataframe tbody tr th {\n",
       "        vertical-align: top;\n",
       "    }\n",
       "\n",
       "    .dataframe thead th {\n",
       "        text-align: right;\n",
       "    }\n",
       "</style>\n",
       "<table border=\"1\" class=\"dataframe\">\n",
       "  <thead>\n",
       "    <tr style=\"text-align: right;\">\n",
       "      <th></th>\n",
       "      <th>Species ID</th>\n",
       "      <th>Bird or Dino</th>\n",
       "      <th>Body Mass (kg)</th>\n",
       "      <th>Total Endocranium (cm3)</th>\n",
       "      <th>Olfactory bulbs (cm3)</th>\n",
       "      <th>Cerebrum (cm3)</th>\n",
       "      <th>Optic Lobes (cm3)</th>\n",
       "      <th>Cerebellum (cm3)</th>\n",
       "      <th>Brain Stem (cm3)</th>\n",
       "      <th>Brain Body Ratio</th>\n",
       "      <th>Cerebrum Ratio</th>\n",
       "    </tr>\n",
       "  </thead>\n",
       "  <tbody>\n",
       "    <tr>\n",
       "      <th>0</th>\n",
       "      <td>3</td>\n",
       "      <td>0</td>\n",
       "      <td>0.01</td>\n",
       "      <td>2.20</td>\n",
       "      <td>0.003</td>\n",
       "      <td>1.57</td>\n",
       "      <td>0.20</td>\n",
       "      <td>0.34</td>\n",
       "      <td>0.08</td>\n",
       "      <td>0.220000</td>\n",
       "      <td>0.713636</td>\n",
       "    </tr>\n",
       "    <tr>\n",
       "      <th>1</th>\n",
       "      <td>4</td>\n",
       "      <td>0</td>\n",
       "      <td>0.03</td>\n",
       "      <td>4.02</td>\n",
       "      <td>0.010</td>\n",
       "      <td>2.22</td>\n",
       "      <td>0.73</td>\n",
       "      <td>0.76</td>\n",
       "      <td>0.29</td>\n",
       "      <td>0.134000</td>\n",
       "      <td>0.552239</td>\n",
       "    </tr>\n",
       "    <tr>\n",
       "      <th>2</th>\n",
       "      <td>5</td>\n",
       "      <td>0</td>\n",
       "      <td>0.02</td>\n",
       "      <td>1.98</td>\n",
       "      <td>0.009</td>\n",
       "      <td>1.53</td>\n",
       "      <td>0.20</td>\n",
       "      <td>0.16</td>\n",
       "      <td>0.06</td>\n",
       "      <td>0.099000</td>\n",
       "      <td>0.772727</td>\n",
       "    </tr>\n",
       "    <tr>\n",
       "      <th>3</th>\n",
       "      <td>6</td>\n",
       "      <td>0</td>\n",
       "      <td>0.01</td>\n",
       "      <td>0.87</td>\n",
       "      <td>0.006</td>\n",
       "      <td>0.46</td>\n",
       "      <td>0.24</td>\n",
       "      <td>0.11</td>\n",
       "      <td>0.06</td>\n",
       "      <td>0.087000</td>\n",
       "      <td>0.528736</td>\n",
       "    </tr>\n",
       "    <tr>\n",
       "      <th>4</th>\n",
       "      <td>7</td>\n",
       "      <td>0</td>\n",
       "      <td>0.17</td>\n",
       "      <td>9.11</td>\n",
       "      <td>0.015</td>\n",
       "      <td>6.09</td>\n",
       "      <td>0.88</td>\n",
       "      <td>1.62</td>\n",
       "      <td>0.49</td>\n",
       "      <td>0.053588</td>\n",
       "      <td>0.668496</td>\n",
       "    </tr>\n",
       "  </tbody>\n",
       "</table>\n",
       "</div>"
      ],
      "text/plain": [
       "   Species ID  Bird or Dino  Body Mass (kg)  Total Endocranium (cm3)  \\\n",
       "0           3             0            0.01                     2.20   \n",
       "1           4             0            0.03                     4.02   \n",
       "2           5             0            0.02                     1.98   \n",
       "3           6             0            0.01                     0.87   \n",
       "4           7             0            0.17                     9.11   \n",
       "\n",
       "   Olfactory bulbs (cm3)  Cerebrum (cm3)  Optic Lobes (cm3)  Cerebellum (cm3)  \\\n",
       "0                  0.003            1.57               0.20              0.34   \n",
       "1                  0.010            2.22               0.73              0.76   \n",
       "2                  0.009            1.53               0.20              0.16   \n",
       "3                  0.006            0.46               0.24              0.11   \n",
       "4                  0.015            6.09               0.88              1.62   \n",
       "\n",
       "   Brain Stem (cm3)  Brain Body Ratio  Cerebrum Ratio  \n",
       "0              0.08          0.220000        0.713636  \n",
       "1              0.29          0.134000        0.552239  \n",
       "2              0.06          0.099000        0.772727  \n",
       "3              0.06          0.087000        0.528736  \n",
       "4              0.49          0.053588        0.668496  "
      ]
     },
     "execution_count": 13,
     "metadata": {},
     "output_type": "execute_result"
    }
   ],
   "source": [
    "df.head()"
   ]
  },
  {
   "cell_type": "markdown",
   "metadata": {},
   "source": [
    "Our machine learning algorithm requires a numpy matrix instead of a dataframe. \n",
    "\n",
    "We can convert the dataframe to a numpy matrix using the .to_numpy() method. Assign your matrix to a variable:"
   ]
  },
  {
   "cell_type": "code",
   "execution_count": 14,
   "metadata": {},
   "outputs": [],
   "source": [
    "data = df.to_numpy()"
   ]
  },
  {
   "cell_type": "markdown",
   "metadata": {},
   "source": [
    "Print out the data type of matrix and the first value in the matrix (note: this is a two dimensional matrix):"
   ]
  },
  {
   "cell_type": "code",
   "execution_count": 15,
   "metadata": {},
   "outputs": [
    {
     "name": "stdout",
     "output_type": "stream",
     "text": [
      "<class 'numpy.ndarray'>\n",
      "<class 'numpy.float64'>\n"
     ]
    }
   ],
   "source": [
    "print(type(data))\n",
    "print(type(data[0,0]))"
   ]
  },
  {
   "cell_type": "markdown",
   "metadata": {},
   "source": [
    "Now we will create our classifier. Just as it is common to call a dataframe \"df\" it is common to call a classifier \"clf\":"
   ]
  },
  {
   "cell_type": "code",
   "execution_count": 16,
   "metadata": {},
   "outputs": [],
   "source": [
    "clf = tree.DecisionTreeClassifier()"
   ]
  },
  {
   "cell_type": "markdown",
   "metadata": {},
   "source": [
    "Next, we will select the x and y data for our algorithm. x should be the two columns we will use to train the algorithm (brain to body ratio and cerebrum to whole brain ratio). y should be the first column which contains our \"class labels\".\n",
    "\n",
    "Hint: You can use slicing to select a particular value from every row of a numpy array. For example, using the index [:,1] will select the second column."
   ]
  },
  {
   "cell_type": "code",
   "execution_count": 17,
   "metadata": {},
   "outputs": [],
   "source": [
    "x = data[:,9:]\n",
    "y = data[:,1]"
   ]
  },
  {
   "cell_type": "markdown",
   "metadata": {},
   "source": [
    "Next we will use the .fit() method to fit our data to the classifier:"
   ]
  },
  {
   "cell_type": "code",
   "execution_count": 18,
   "metadata": {},
   "outputs": [],
   "source": [
    "clf = clf.fit(x, y)"
   ]
  },
  {
   "cell_type": "markdown",
   "metadata": {},
   "source": [
    "We can visualize the path of the decision tree's decision making using the .plot_tree function:"
   ]
  },
  {
   "cell_type": "code",
   "execution_count": 20,
   "metadata": {},
   "outputs": [
    {
     "data": {
      "image/png": "[encoded data removed]",
      "text/plain": [
       "<Figure size 432x288 with 1 Axes>"
      ]
     },
     "metadata": {
      "needs_background": "light"
     },
     "output_type": "display_data"
    }
   ],
   "source": [
    "tree.plot_tree(clf, class_names=[\"Bird\",\"Dino\"], feature_names=[\"Brain Body Ratio\", \"Cerebrum Ratio\"]) \n",
    "plt.show()"
   ]
  },
  {
   "cell_type": "markdown",
   "metadata": {},
   "source": [
    "Now let's test out our decision tree with some data from one of the brains we studied! We can use the .predict_proba method. \n",
    "\n",
    "A result of array([[1., 0.]]) means the algorithm is certain it's a bird and a result of array([[0., 1.]]) means the algorithm is certain it's a dinosaur.\n",
    "\n",
    "For example:"
   ]
  },
  {
   "cell_type": "code",
   "execution_count": 21,
   "metadata": {},
   "outputs": [
    {
     "data": {
      "text/plain": [
       "array([[1., 0.]])"
      ]
     },
     "execution_count": 21,
     "metadata": {},
     "output_type": "execute_result"
    }
   ],
   "source": [
    "# This is the brain to body mass ratio and cerebrum to whole brain ratio for the woodpecker:\n",
    "clf.predict_proba([[0.22,0.71]])"
   ]
  },
  {
   "cell_type": "markdown",
   "metadata": {},
   "source": [
    "Try it with the data from your brain specimen!"
   ]
  },
  {
   "cell_type": "code",
   "execution_count": 22,
   "metadata": {},
   "outputs": [
    {
     "data": {
      "text/plain": [
       "array([[0., 1.]])"
      ]
     },
     "execution_count": 22,
     "metadata": {},
     "output_type": "execute_result"
    }
   ],
   "source": [
    "clf.predict_proba([[0.0005,0.59]])"
   ]
  },
  {
   "cell_type": "markdown",
   "metadata": {},
   "source": [
    "## Bonus Challenge: \n",
    "Try to train another classifier that's based on the size of each brain region and test it out!"
   ]
  },
  {
   "cell_type": "code",
   "execution_count": null,
   "metadata": {},
   "outputs": [],
   "source": []
  },
  {
   "cell_type": "markdown",
   "metadata": {},
   "source": [
    "## Extra code"
   ]
  },
  {
   "cell_type": "code",
   "execution_count": 23,
   "metadata": {},
   "outputs": [
    {
     "data": {
      "image/svg+xml": [
       "<?xml version=\"1.0\" encoding=\"UTF-8\" standalone=\"no\"?>\n",
       "<!DOCTYPE svg PUBLIC \"-//W3C//DTD SVG 1.1//EN\"\n",
       " \"http://www.w3.org/Graphics/SVG/1.1/DTD/svg11.dtd\">\n",
       "<!-- Generated by graphviz version 2.40.1 (20161225.0304)\n",
       " -->\n",
       "<!-- Title: Tree Pages: 1 -->\n",
       "<svg width=\"318pt\" height=\"300pt\"\n",
       " viewBox=\"0.00 0.00 318.45 300.00\" xmlns=\"http://www.w3.org/2000/svg\" xmlns:xlink=\"http://www.w3.org/1999/xlink\">\n",
       "<g id=\"graph0\" class=\"graph\" transform=\"scale(1 1) rotate(0) translate(4 296)\">\n",
       "<title>Tree</title>\n",
       "<polygon fill=\"#ffffff\" stroke=\"transparent\" points=\"-4,4 -4,-296 314.4478,-296 314.4478,4 -4,4\"/>\n",
       "<!-- 0 -->\n",
       "<g id=\"node1\" class=\"node\">\n",
       "<title>0</title>\n",
       "<path fill=\"#f1b991\" stroke=\"#000000\" d=\"M254.8297,-292C254.8297,-292 107.725,-292 107.725,-292 101.725,-292 95.725,-286 95.725,-280 95.725,-280 95.725,-226 95.725,-226 95.725,-220 101.725,-214 107.725,-214 107.725,-214 254.8297,-214 254.8297,-214 260.8297,-214 266.8297,-220 266.8297,-226 266.8297,-226 266.8297,-280 266.8297,-280 266.8297,-286 260.8297,-292 254.8297,-292\"/>\n",
       "<text text-anchor=\"start\" x=\"103.5015\" y=\"-276.8\" font-family=\"Helvetica,sans-Serif\" font-size=\"14.00\" fill=\"#000000\">Brain Body Ratio ≤ 0.004</text>\n",
       "<text text-anchor=\"start\" x=\"144.8862\" y=\"-262.8\" font-family=\"Helvetica,sans-Serif\" font-size=\"14.00\" fill=\"#000000\">gini = 0.426</text>\n",
       "<text text-anchor=\"start\" x=\"139.4482\" y=\"-248.8\" font-family=\"Helvetica,sans-Serif\" font-size=\"14.00\" fill=\"#000000\">samples = 26</text>\n",
       "<text text-anchor=\"start\" x=\"137.1069\" y=\"-234.8\" font-family=\"Helvetica,sans-Serif\" font-size=\"14.00\" fill=\"#000000\">value = [18, 8]</text>\n",
       "<text text-anchor=\"start\" x=\"144.9033\" y=\"-220.8\" font-family=\"Helvetica,sans-Serif\" font-size=\"14.00\" fill=\"#000000\">class = Bird</text>\n",
       "</g>\n",
       "<!-- 1 -->\n",
       "<g id=\"node2\" class=\"node\">\n",
       "<title>1</title>\n",
       "<path fill=\"#52a9e8\" stroke=\"#000000\" d=\"M176.0882,-178C176.0882,-178 34.4665,-178 34.4665,-178 28.4665,-178 22.4665,-172 22.4665,-166 22.4665,-166 22.4665,-112 22.4665,-112 22.4665,-106 28.4665,-100 34.4665,-100 34.4665,-100 176.0882,-100 176.0882,-100 182.0882,-100 188.0882,-106 188.0882,-112 188.0882,-112 188.0882,-166 188.0882,-166 188.0882,-172 182.0882,-178 176.0882,-178\"/>\n",
       "<text text-anchor=\"start\" x=\"30.6221\" y=\"-162.8\" font-family=\"Helvetica,sans-Serif\" font-size=\"14.00\" fill=\"#000000\">Cerebrum Ratio ≤ 0.622</text>\n",
       "<text text-anchor=\"start\" x=\"68.8862\" y=\"-148.8\" font-family=\"Helvetica,sans-Serif\" font-size=\"14.00\" fill=\"#000000\">gini = 0.198</text>\n",
       "<text text-anchor=\"start\" x=\"67.3413\" y=\"-134.8\" font-family=\"Helvetica,sans-Serif\" font-size=\"14.00\" fill=\"#000000\">samples = 9</text>\n",
       "<text text-anchor=\"start\" x=\"65\" y=\"-120.8\" font-family=\"Helvetica,sans-Serif\" font-size=\"14.00\" fill=\"#000000\">value = [1, 8]</text>\n",
       "<text text-anchor=\"start\" x=\"66.9551\" y=\"-106.8\" font-family=\"Helvetica,sans-Serif\" font-size=\"14.00\" fill=\"#000000\">class = Dino</text>\n",
       "</g>\n",
       "<!-- 0&#45;&gt;1 -->\n",
       "<g id=\"edge1\" class=\"edge\">\n",
       "<title>0&#45;&gt;1</title>\n",
       "<path fill=\"none\" stroke=\"#000000\" d=\"M155.1225,-213.7677C149.3306,-205.0798 143.1308,-195.7801 137.14,-186.794\"/>\n",
       "<polygon fill=\"#000000\" stroke=\"#000000\" points=\"139.9397,-184.6837 131.4804,-178.3046 134.1153,-188.5666 139.9397,-184.6837\"/>\n",
       "<text text-anchor=\"middle\" x=\"126.5775\" y=\"-198.6192\" font-family=\"Helvetica,sans-Serif\" font-size=\"14.00\" fill=\"#000000\">True</text>\n",
       "</g>\n",
       "<!-- 4 -->\n",
       "<g id=\"node5\" class=\"node\">\n",
       "<title>4</title>\n",
       "<path fill=\"#e58139\" stroke=\"#000000\" d=\"M298.6187,-171C298.6187,-171 217.936,-171 217.936,-171 211.936,-171 205.936,-165 205.936,-159 205.936,-159 205.936,-119 205.936,-119 205.936,-113 211.936,-107 217.936,-107 217.936,-107 298.6187,-107 298.6187,-107 304.6187,-107 310.6187,-113 310.6187,-119 310.6187,-119 310.6187,-159 310.6187,-159 310.6187,-165 304.6187,-171 298.6187,-171\"/>\n",
       "<text text-anchor=\"start\" x=\"229.6724\" y=\"-155.8\" font-family=\"Helvetica,sans-Serif\" font-size=\"14.00\" fill=\"#000000\">gini = 0.0</text>\n",
       "<text text-anchor=\"start\" x=\"216.4482\" y=\"-141.8\" font-family=\"Helvetica,sans-Serif\" font-size=\"14.00\" fill=\"#000000\">samples = 17</text>\n",
       "<text text-anchor=\"start\" x=\"214.1069\" y=\"-127.8\" font-family=\"Helvetica,sans-Serif\" font-size=\"14.00\" fill=\"#000000\">value = [17, 0]</text>\n",
       "<text text-anchor=\"start\" x=\"221.9033\" y=\"-113.8\" font-family=\"Helvetica,sans-Serif\" font-size=\"14.00\" fill=\"#000000\">class = Bird</text>\n",
       "</g>\n",
       "<!-- 0&#45;&gt;4 -->\n",
       "<g id=\"edge4\" class=\"edge\">\n",
       "<title>0&#45;&gt;4</title>\n",
       "<path fill=\"none\" stroke=\"#000000\" d=\"M207.7764,-213.7677C215.2643,-202.6817 223.4251,-190.5994 230.9601,-179.4436\"/>\n",
       "<polygon fill=\"#000000\" stroke=\"#000000\" points=\"233.8819,-181.3711 236.5787,-171.1252 228.0811,-177.453 233.8819,-181.3711\"/>\n",
       "<text text-anchor=\"middle\" x=\"241.3333\" y=\"-191.4689\" font-family=\"Helvetica,sans-Serif\" font-size=\"14.00\" fill=\"#000000\">False</text>\n",
       "</g>\n",
       "<!-- 2 -->\n",
       "<g id=\"node3\" class=\"node\">\n",
       "<title>2</title>\n",
       "<path fill=\"#399de5\" stroke=\"#000000\" d=\"M84.3331,-64C84.3331,-64 12.2216,-64 12.2216,-64 6.2216,-64 .2216,-58 .2216,-52 .2216,-52 .2216,-12 .2216,-12 .2216,-6 6.2216,0 12.2216,0 12.2216,0 84.3331,0 84.3331,0 90.3331,0 96.3331,-6 96.3331,-12 96.3331,-12 96.3331,-52 96.3331,-52 96.3331,-58 90.3331,-64 84.3331,-64\"/>\n",
       "<text text-anchor=\"start\" x=\"19.6724\" y=\"-48.8\" font-family=\"Helvetica,sans-Serif\" font-size=\"14.00\" fill=\"#000000\">gini = 0.0</text>\n",
       "<text text-anchor=\"start\" x=\"10.3413\" y=\"-34.8\" font-family=\"Helvetica,sans-Serif\" font-size=\"14.00\" fill=\"#000000\">samples = 8</text>\n",
       "<text text-anchor=\"start\" x=\"8\" y=\"-20.8\" font-family=\"Helvetica,sans-Serif\" font-size=\"14.00\" fill=\"#000000\">value = [0, 8]</text>\n",
       "<text text-anchor=\"start\" x=\"9.9551\" y=\"-6.8\" font-family=\"Helvetica,sans-Serif\" font-size=\"14.00\" fill=\"#000000\">class = Dino</text>\n",
       "</g>\n",
       "<!-- 1&#45;&gt;2 -->\n",
       "<g id=\"edge2\" class=\"edge\">\n",
       "<title>1&#45;&gt;2</title>\n",
       "<path fill=\"none\" stroke=\"#000000\" d=\"M84.3763,-99.7647C79.7543,-91.0884 74.8447,-81.8721 70.184,-73.123\"/>\n",
       "<polygon fill=\"#000000\" stroke=\"#000000\" points=\"73.2303,-71.3971 65.4396,-64.2169 67.0522,-74.6883 73.2303,-71.3971\"/>\n",
       "</g>\n",
       "<!-- 3 -->\n",
       "<g id=\"node4\" class=\"node\">\n",
       "<title>3</title>\n",
       "<path fill=\"#e58139\" stroke=\"#000000\" d=\"M199.3331,-64C199.3331,-64 127.2216,-64 127.2216,-64 121.2216,-64 115.2216,-58 115.2216,-52 115.2216,-52 115.2216,-12 115.2216,-12 115.2216,-6 121.2216,0 127.2216,0 127.2216,0 199.3331,0 199.3331,0 205.3331,0 211.3331,-6 211.3331,-12 211.3331,-12 211.3331,-52 211.3331,-52 211.3331,-58 205.3331,-64 199.3331,-64\"/>\n",
       "<text text-anchor=\"start\" x=\"134.6724\" y=\"-48.8\" font-family=\"Helvetica,sans-Serif\" font-size=\"14.00\" fill=\"#000000\">gini = 0.0</text>\n",
       "<text text-anchor=\"start\" x=\"125.3413\" y=\"-34.8\" font-family=\"Helvetica,sans-Serif\" font-size=\"14.00\" fill=\"#000000\">samples = 1</text>\n",
       "<text text-anchor=\"start\" x=\"123\" y=\"-20.8\" font-family=\"Helvetica,sans-Serif\" font-size=\"14.00\" fill=\"#000000\">value = [1, 0]</text>\n",
       "<text text-anchor=\"start\" x=\"126.9033\" y=\"-6.8\" font-family=\"Helvetica,sans-Serif\" font-size=\"14.00\" fill=\"#000000\">class = Bird</text>\n",
       "</g>\n",
       "<!-- 1&#45;&gt;3 -->\n",
       "<g id=\"edge3\" class=\"edge\">\n",
       "<title>1&#45;&gt;3</title>\n",
       "<path fill=\"none\" stroke=\"#000000\" d=\"M126.5451,-99.7647C131.2481,-91.0884 136.2439,-81.8721 140.9864,-73.123\"/>\n",
       "<polygon fill=\"#000000\" stroke=\"#000000\" points=\"144.1255,-74.6763 145.814,-64.2169 137.9714,-71.3404 144.1255,-74.6763\"/>\n",
       "</g>\n",
       "</g>\n",
       "</svg>\n"
      ],
      "text/plain": [
       "<graphviz.files.Source at 0x1a18ae7748>"
      ]
     },
     "execution_count": 23,
     "metadata": {},
     "output_type": "execute_result"
    }
   ],
   "source": [
    "# Extra code to make the decision tree look better\n",
    "dot_data = tree.export_graphviz(clf, out_file=None, \n",
    "                     feature_names= ['Brain Body Ratio', 'Cerebrum Ratio'],  \n",
    "                      class_names=['Bird','Dino'],  \n",
    "                      filled=True, rounded=True,  \n",
    "                      special_characters=True)  \n",
    "graph = graphviz.Source(dot_data)  \n",
    "graph "
   ]
  },
  {
   "cell_type": "code",
   "execution_count": null,
   "metadata": {},
   "outputs": [],
   "source": []
  }
 ],
 "metadata": {
  "kernelspec": {
   "display_name": "Python 3",
   "language": "python",
   "name": "python3"
  },
  "language_info": {
   "codemirror_mode": {
    "name": "ipython",
    "version": 3
   },
   "file_extension": ".py",
   "mimetype": "text/x-python",
   "name": "python",
   "nbconvert_exporter": "python",
   "pygments_lexer": "ipython3",
   "version": "3.7.3"
  }
 },
 "nbformat": 4,
 "nbformat_minor": 2
}
